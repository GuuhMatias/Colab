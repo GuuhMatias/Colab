{
  "nbformat": 4,
  "nbformat_minor": 0,
  "metadata": {
    "colab": {
      "provenance": [],
      "include_colab_link": true
    },
    "kernelspec": {
      "name": "python3",
      "display_name": "Python 3"
    },
    "language_info": {
      "name": "python"
    }
  },
  "cells": [
    {
      "cell_type": "markdown",
      "metadata": {
        "id": "view-in-github",
        "colab_type": "text"
      },
      "source": [
        "<a href=\"https://colab.research.google.com/github/GuuhMatias/Colab/blob/main/Condicionais.ipynb\" target=\"_parent\"><img src=\"https://colab.research.google.com/assets/colab-badge.svg\" alt=\"Open In Colab\"/></a>"
      ]
    },
    {
      "cell_type": "code",
      "execution_count": null,
      "metadata": {
        "colab": {
          "base_uri": "https://localhost:8080/"
        },
        "id": "leIinO6XBWAY",
        "outputId": "f6b11aba-4244-4bf0-9277-09847e20c143"
      },
      "outputs": [
        {
          "output_type": "stream",
          "name": "stdout",
          "text": [
            "Digite o valor de A: 40\n",
            "Digite o valor de B: 10\n",
            "A é maior que B: \n"
          ]
        }
      ],
      "source": [
        "# Condicional if\n",
        "# O comando else é uma estrutura condicional utilizada para realizar um bloco de codigo se uma determi\n",
        "# nada função for verdadeira e executar outro conjunto de instrucoes caso ela seja falsa\n",
        "# Exemplos:\n",
        "\n",
        "A = int(input('Digite o valor de A: '))\n",
        "B = int(input('Digite o valor de B: '))\n",
        "\n",
        "if(A > B):\n",
        "  print('A é maior que B: ')\n",
        "\n",
        "if(A <= B):\n",
        "  print('A é menor que B: ')\n",
        "\n",
        "if(A == B):\n",
        "  print('A é igual a B: ')"
      ]
    },
    {
      "cell_type": "code",
      "source": [
        "# Condicional else\n",
        "# O comando else é utilziado para executar um bloco de código, caso o resultado da expressao informada\n",
        "# no comando if seja falsa ( o comando else só pode ser utilizado em conjunto com o comando if)\n",
        "# Exemplos:\n",
        "\n",
        "A = int(input('Digite o valor de A: '))\n",
        "B = int(input('Digite o valor de B: '))\n",
        "\n",
        "if(A > B):\n",
        "  print('A é maior que B!')\n",
        "else:\n",
        "        print('A é menor ou igual que B!')"
      ],
      "metadata": {
        "colab": {
          "base_uri": "https://localhost:8080/"
        },
        "id": "tj-Ve__OCMii",
        "outputId": "00e6367c-470c-47a7-e1f3-540c525c385d"
      },
      "execution_count": null,
      "outputs": [
        {
          "output_type": "stream",
          "name": "stdout",
          "text": [
            "Digite o valor de A: 20\n",
            "Digite o valor de B: 20\n",
            "A é menor ou igual que B!\n"
          ]
        }
      ]
    },
    {
      "cell_type": "code",
      "source": [
        "# Estruturas condicionais ( if e else ) de forma aninhada e encadeada\n",
        "# Posso usar essas estruturas para diversas tarefas, armazenar dados, fazer contas e etc\n",
        "\n",
        "idade = 80\n",
        "sexo = 'M'\n"
      ],
      "metadata": {
        "id": "xMXHWoy5EO9g"
      },
      "execution_count": null,
      "outputs": []
    },
    {
      "cell_type": "code",
      "source": [
        "if idade < 9:\n",
        "  print('É uma criança')\n",
        "  if sexo == 'M' :\n",
        "    print('Sexo Masculino.')\n",
        "  else:\n",
        "    print('Sexo Feminino.')\n",
        "else:\n",
        "  print('Não é uma criança')\n",
        "  if sexo == 'M':\n",
        "    print('Sexo Masculino.')\n",
        "  else:\n",
        "    print(\"Sexo Feminino.\")"
      ],
      "metadata": {
        "colab": {
          "base_uri": "https://localhost:8080/"
        },
        "id": "CgcOvhtbFs4-",
        "outputId": "e1fd2f5d-4978-489e-e40f-4bc232192149"
      },
      "execution_count": null,
      "outputs": [
        {
          "output_type": "stream",
          "name": "stdout",
          "text": [
            "Não é uma criança\n",
            "Sexo Masculino.\n"
          ]
        }
      ]
    },
    {
      "cell_type": "code",
      "source": [
        "# Condicional elif\n",
        "# Comando elif serve para evitar o encadeamento das condicionais if e else, para evitar fazer um\n",
        "# encadeamento tao grande e identado\n",
        "\n",
        "nota = 9"
      ],
      "metadata": {
        "id": "6JJ75Dy8GU8l"
      },
      "execution_count": null,
      "outputs": []
    },
    {
      "cell_type": "code",
      "source": [
        "if nota <= 1 and nota > 0:\n",
        "  print('Nota muito baixa!')\n",
        "elif nota > 1 and nota <= 4:\n",
        "  print('Nota baixa.')\n",
        "elif nota > 4 and nota <= 7:\n",
        "  print('Nota na média.')\n",
        "elif nota > 7 and nota <= 8:\n",
        "  print('Nota alta!.')\n",
        "else: print('Nota inválida!')\n"
      ],
      "metadata": {
        "colab": {
          "base_uri": "https://localhost:8080/"
        },
        "id": "8mcnaWmcHMt-",
        "outputId": "bc604b9f-9c29-4f16-98a9-94fc074fcbc0"
      },
      "execution_count": null,
      "outputs": [
        {
          "output_type": "stream",
          "name": "stdout",
          "text": [
            "Nota inválida!\n"
          ]
        }
      ]
    },
    {
      "cell_type": "code",
      "source": [],
      "metadata": {
        "id": "6Az2L6bRH4wu"
      },
      "execution_count": null,
      "outputs": []
    }
  ]
}