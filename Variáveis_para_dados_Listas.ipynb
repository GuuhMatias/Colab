{
  "nbformat": 4,
  "nbformat_minor": 0,
  "metadata": {
    "colab": {
      "provenance": [],
      "include_colab_link": true
    },
    "kernelspec": {
      "name": "python3",
      "display_name": "Python 3"
    },
    "language_info": {
      "name": "python"
    }
  },
  "cells": [
    {
      "cell_type": "markdown",
      "metadata": {
        "id": "view-in-github",
        "colab_type": "text"
      },
      "source": [
        "<a href=\"https://colab.research.google.com/github/GuuhMatias/Colab/blob/main/Vari%C3%A1veis_para_dados_Listas.ipynb\" target=\"_parent\"><img src=\"https://colab.research.google.com/assets/colab-badge.svg\" alt=\"Open In Colab\"/></a>"
      ]
    },
    {
      "cell_type": "code",
      "execution_count": null,
      "metadata": {
        "id": "6jUqecP1vWZn"
      },
      "outputs": [],
      "source": [
        "# Variaveis uteis para trabalhar com armazenamento de dados\n",
        "\n",
        "# Então para cada tipo de variavel precisamos aprender:\n",
        "\n",
        "# O que sao variaveis: listas, dicionarios, tuplas, vetores e matrizes;\n",
        "# Como funciona a indexação e fatiamentos (slices);\n",
        "# Os metoros basicos presentes nas variaveis;\n",
        "# Como fazer aninhamentos.\n"
      ]
    },
    {
      "cell_type": "code",
      "source": [
        "# Listas ( Podemos iniciar a montagem de uma lista usando [] ou list() )\n",
        "\n",
        "L1 = []\n",
        "type(L1)"
      ],
      "metadata": {
        "colab": {
          "base_uri": "https://localhost:8080/"
        },
        "id": "kjRfaYEKvyGP",
        "outputId": "cb010b51-c711-4d1f-c711-89fea78afcfd"
      },
      "execution_count": null,
      "outputs": [
        {
          "output_type": "execute_result",
          "data": {
            "text/plain": [
              "list"
            ]
          },
          "metadata": {},
          "execution_count": 2
        }
      ]
    },
    {
      "cell_type": "code",
      "source": [
        "lista2 = list()"
      ],
      "metadata": {
        "id": "RGM1p61Av3Y2"
      },
      "execution_count": null,
      "outputs": []
    },
    {
      "cell_type": "code",
      "source": [
        "type(lista2)"
      ],
      "metadata": {
        "colab": {
          "base_uri": "https://localhost:8080/"
        },
        "id": "6pKfxkw8v8XH",
        "outputId": "13416c33-aa4b-4260-df72-cea9670d83a8"
      },
      "execution_count": null,
      "outputs": [
        {
          "output_type": "execute_result",
          "data": {
            "text/plain": [
              "list"
            ]
          },
          "metadata": {},
          "execution_count": 4
        }
      ]
    },
    {
      "cell_type": "code",
      "source": [
        "list1 = ['Eliane', 'Gustavo', 'Guilherme']# cobsiderado uma string com varios valores, por ter aspas em cada nome\n",
        "list2 = ['Eliane, Gustavo, Guilherme'] # Considerado uma string com um unico valor,\n",
        "                                       #por ter apenas uma aspas simples\n",
        "list1"
      ],
      "metadata": {
        "colab": {
          "base_uri": "https://localhost:8080/"
        },
        "id": "VmhDIprev9Qf",
        "outputId": "30c4390d-2600-47e9-baea-b1263cc11c1f"
      },
      "execution_count": null,
      "outputs": [
        {
          "output_type": "execute_result",
          "data": {
            "text/plain": [
              "['Eliane', 'Gustavo', 'Guilherme']"
            ]
          },
          "metadata": {},
          "execution_count": 7
        }
      ]
    },
    {
      "cell_type": "code",
      "source": [
        "list2"
      ],
      "metadata": {
        "colab": {
          "base_uri": "https://localhost:8080/"
        },
        "id": "Feh4K-hLwXKo",
        "outputId": "812efdd3-077e-4cb2-9a2d-99c41d0fe912"
      },
      "execution_count": null,
      "outputs": [
        {
          "output_type": "execute_result",
          "data": {
            "text/plain": [
              "['Eliane, Gustavo, Guilherme']"
            ]
          },
          "metadata": {},
          "execution_count": 8
        }
      ]
    },
    {
      "cell_type": "code",
      "source": [
        "len(list1)\n",
        "\n",
        "# lista com aspas em cada nome, como se fossem 3 valores diferentes dentro daquela variavel string"
      ],
      "metadata": {
        "colab": {
          "base_uri": "https://localhost:8080/"
        },
        "id": "Kz6ue6xYwhMv",
        "outputId": "657eba35-345e-456d-a910-d418c6972632"
      },
      "execution_count": null,
      "outputs": [
        {
          "output_type": "execute_result",
          "data": {
            "text/plain": [
              "3"
            ]
          },
          "metadata": {},
          "execution_count": 9
        }
      ]
    },
    {
      "cell_type": "code",
      "source": [
        "len(list2)\n",
        "\n",
        "# lista cm aspas no inicio e fim, como se tivesse unificado todos os valores dentro daqla variavel string\n",
        "# outra forma de ver isso é usando a busca de valor\n"
      ],
      "metadata": {
        "colab": {
          "base_uri": "https://localhost:8080/"
        },
        "id": "8idmHKhhxCoo",
        "outputId": "807b20e8-0bee-4379-ac10-3820daa2a4d4"
      },
      "execution_count": null,
      "outputs": [
        {
          "output_type": "execute_result",
          "data": {
            "text/plain": [
              "1"
            ]
          },
          "metadata": {},
          "execution_count": 11
        }
      ]
    },
    {
      "cell_type": "code",
      "source": [
        "list2 [0] # Diferente da lista com 1, com uma aspas em cada nome dentro da variavel"
      ],
      "metadata": {
        "colab": {
          "base_uri": "https://localhost:8080/",
          "height": 38
        },
        "id": "p-deke6fxMes",
        "outputId": "a4b2d1d0-008e-4b96-c682-7b4b907e7d5f"
      },
      "execution_count": null,
      "outputs": [
        {
          "output_type": "execute_result",
          "data": {
            "text/plain": [
              "'Eliane, Gustavo, Guilherme'"
            ],
            "application/vnd.google.colaboratory.intrinsic+json": {
              "type": "string"
            }
          },
          "metadata": {},
          "execution_count": 12
        }
      ]
    },
    {
      "cell_type": "code",
      "source": [
        "list1 [0] # \"Eliane\" é o primeiro elemento da lista 1, por estar estar cercado de aspa simples, se tornando\n",
        "          # o primeiro valor da variavel string\n"
      ],
      "metadata": {
        "colab": {
          "base_uri": "https://localhost:8080/",
          "height": 38
        },
        "id": "ctvF36BYxlsY",
        "outputId": "e281d6be-7270-4da7-8d22-ac7470f125bb"
      },
      "execution_count": null,
      "outputs": [
        {
          "output_type": "execute_result",
          "data": {
            "text/plain": [
              "'Eliane'"
            ],
            "application/vnd.google.colaboratory.intrinsic+json": {
              "type": "string"
            }
          },
          "metadata": {},
          "execution_count": 13
        }
      ]
    },
    {
      "cell_type": "code",
      "source": [
        "# Adicionar um objeto dentro da lista usando o comando append\n",
        "\n",
        "list1.append('Ricardo')\n"
      ],
      "metadata": {
        "id": "KXcfe_2Txw0v"
      },
      "execution_count": null,
      "outputs": []
    },
    {
      "cell_type": "code",
      "source": [
        "list1"
      ],
      "metadata": {
        "colab": {
          "base_uri": "https://localhost:8080/"
        },
        "id": "XQMKD7Y1yXaP",
        "outputId": "4ccdb33b-b59d-4c00-ec33-a7ce8ed318ea"
      },
      "execution_count": null,
      "outputs": [
        {
          "output_type": "execute_result",
          "data": {
            "text/plain": [
              "['Eliane', 'Gustavo', 'Guilherme', 'Ricardo', 'Ricardo', 'Ricardo']"
            ]
          },
          "metadata": {},
          "execution_count": 17
        }
      ]
    },
    {
      "cell_type": "code",
      "source": [
        "# O comando pode ser usado varias vezes\n",
        "\n",
        "# Lista mista que pode ser colocado varios tipos de palavras, float, int, etc\n",
        "\n",
        "misto = ['carro','3.90','10']"
      ],
      "metadata": {
        "id": "UQBbXfa8yg_Y"
      },
      "execution_count": null,
      "outputs": []
    },
    {
      "cell_type": "code",
      "source": [
        "misto"
      ],
      "metadata": {
        "colab": {
          "base_uri": "https://localhost:8080/"
        },
        "id": "mvHk99lIzFIY",
        "outputId": "feb89c53-fa1a-4abf-e3e9-cc4d42d220c3"
      },
      "execution_count": null,
      "outputs": [
        {
          "output_type": "execute_result",
          "data": {
            "text/plain": [
              "['carro', '3.90', '10']"
            ]
          },
          "metadata": {},
          "execution_count": 19
        }
      ]
    },
    {
      "cell_type": "code",
      "source": [
        "# Para retirar um nome da lista que desejar\n",
        "\n",
        "del list1[1]"
      ],
      "metadata": {
        "id": "c4VdmFvjzGnY"
      },
      "execution_count": null,
      "outputs": []
    },
    {
      "cell_type": "code",
      "source": [
        "list1\n",
        "\n",
        "# Podemos retirar varios itens da lista, e deixando quantos quiser e os que quiser, removi todos e sobrou\n",
        "# apenas Eliane\n"
      ],
      "metadata": {
        "colab": {
          "base_uri": "https://localhost:8080/"
        },
        "id": "bYn-yJyGzdpu",
        "outputId": "34976382-49da-46e2-ffa3-3cc25e3899b6"
      },
      "execution_count": null,
      "outputs": [
        {
          "output_type": "execute_result",
          "data": {
            "text/plain": [
              "['Eliane']"
            ]
          },
          "metadata": {},
          "execution_count": 36
        }
      ]
    },
    {
      "cell_type": "code",
      "source": [
        "list1.append('Guilherme')\n",
        "\n",
        "# Tem como remover um objeto da lista mencionando-o diretamente e usando o comando remove\n",
        "\n",
        "list1.remove(\"Gustavo\")"
      ],
      "metadata": {
        "id": "XbFPiTg5zlU3"
      },
      "execution_count": null,
      "outputs": []
    },
    {
      "cell_type": "code",
      "source": [
        "list1\n",
        "\n",
        "# Como pode ver na operacao abaixo, o nome foi mencionado diretamente na operaçao e retirado da lista\n",
        "# Podemos fazer os mesmos procedimentos \"del\" e \"remove\" com a lista mista"
      ],
      "metadata": {
        "colab": {
          "base_uri": "https://localhost:8080/"
        },
        "id": "RNwT0_Gs0caq",
        "outputId": "70bb88cb-d476-4065-a178-b1b95d735923"
      },
      "execution_count": null,
      "outputs": [
        {
          "output_type": "execute_result",
          "data": {
            "text/plain": [
              "['Eliane', 'Guilherme', 'Guilherme', 'Guilherme']"
            ]
          },
          "metadata": {},
          "execution_count": 46
        }
      ]
    },
    {
      "cell_type": "code",
      "source": [
        "misto.remove('3.90')"
      ],
      "metadata": {
        "id": "NjXcdPYr1A_5"
      },
      "execution_count": null,
      "outputs": []
    },
    {
      "cell_type": "code",
      "source": [
        "misto"
      ],
      "metadata": {
        "colab": {
          "base_uri": "https://localhost:8080/"
        },
        "id": "Ad5ZjDM51ab0",
        "outputId": "b88e55d0-79af-47f9-f9da-e06a7035247c"
      },
      "execution_count": null,
      "outputs": [
        {
          "output_type": "execute_result",
          "data": {
            "text/plain": [
              "['carro', '10']"
            ]
          },
          "metadata": {},
          "execution_count": 48
        }
      ]
    },
    {
      "cell_type": "code",
      "source": [
        "# Lembrando que em todas as listas, se tentarmos usar comando del ou remove em um item inexistente\n",
        "# vai dar erro de operacao, e na lista1 que os elementos sao unificados, conseguimos apagar todos\n",
        "# de uma vez só usando o comando del, e o remove, mas nesse caso o del é mais simples\n",
        "\n",
        "del list2[0]"
      ],
      "metadata": {
        "id": "HmJH792i1bjw"
      },
      "execution_count": null,
      "outputs": []
    },
    {
      "cell_type": "code",
      "source": [
        "list2"
      ],
      "metadata": {
        "colab": {
          "base_uri": "https://localhost:8080/"
        },
        "id": "kyQtzdl310yR",
        "outputId": "c0cb7ec6-1c40-45f6-be07-32b76e1cc8fb"
      },
      "execution_count": null,
      "outputs": [
        {
          "output_type": "execute_result",
          "data": {
            "text/plain": [
              "[]"
            ]
          },
          "metadata": {},
          "execution_count": 50
        }
      ]
    },
    {
      "cell_type": "code",
      "source": [
        "# Todos os elementos da lista foram apagados\n",
        "\n",
        "# Linhas aninhadas ( Lista dentro de uma lista )\n",
        "\n",
        "lista = [[11,22,33], [1,2,3,4], [100,200,300,400,500]]\n",
        "\n",
        "# Para fazer o slice dessa lista, temos que achar a lista e o algoritmo na lista, exemplo:\n",
        "\n",
        "lista[0][1]"
      ],
      "metadata": {
        "id": "y2tUtXxP11uy",
        "colab": {
          "base_uri": "https://localhost:8080/"
        },
        "outputId": "3fce488f-4999-4eeb-a8a9-79dcb790959e"
      },
      "execution_count": null,
      "outputs": [
        {
          "output_type": "execute_result",
          "data": {
            "text/plain": [
              "22"
            ]
          },
          "metadata": {},
          "execution_count": 1
        }
      ]
    },
    {
      "cell_type": "code",
      "source": [
        "lista[2][3]"
      ],
      "metadata": {
        "colab": {
          "base_uri": "https://localhost:8080/"
        },
        "id": "16KEnd-0kYoZ",
        "outputId": "4c1a213a-308c-4260-b3a9-2572dde5c793"
      },
      "execution_count": null,
      "outputs": [
        {
          "output_type": "execute_result",
          "data": {
            "text/plain": [
              "400"
            ]
          },
          "metadata": {},
          "execution_count": 2
        }
      ]
    },
    {
      "cell_type": "code",
      "source": [
        "# Junção de listas e avaliação de elementos\n",
        "\n",
        "l1 = [1,2,3,4,5]\n",
        "l2 = [22,33,44,55,66,77]\n",
        "\n",
        "s = l1 + l2\n",
        "\n",
        "s"
      ],
      "metadata": {
        "colab": {
          "base_uri": "https://localhost:8080/"
        },
        "id": "ssFr45uBkfPT",
        "outputId": "bc33ed18-9d24-415f-dda1-7b9be14f370e"
      },
      "execution_count": null,
      "outputs": [
        {
          "output_type": "execute_result",
          "data": {
            "text/plain": [
              "[1, 2, 3, 4, 5, 22, 33, 44, 55, 66, 77]"
            ]
          },
          "metadata": {},
          "execution_count": 3
        }
      ]
    },
    {
      "cell_type": "code",
      "source": [
        "# Perguntar se um valor está dentro de uma lista, ou soma de listas, etc, usando o comando 'in' e a\n",
        "# variavel da lista que voce quer saber se esse valor se encontra ent no caso, 'in s'\n",
        "\n",
        "20 in s\n",
        "\n",
        "# False porque nas listas nao existe o numero 20"
      ],
      "metadata": {
        "colab": {
          "base_uri": "https://localhost:8080/"
        },
        "id": "LICb8VeVk2OF",
        "outputId": "5699d2e6-2dfa-4349-9f66-aeda548fbdd7"
      },
      "execution_count": null,
      "outputs": [
        {
          "output_type": "execute_result",
          "data": {
            "text/plain": [
              "False"
            ]
          },
          "metadata": {},
          "execution_count": 7
        }
      ]
    },
    {
      "cell_type": "code",
      "source": [
        "22 in s\n",
        "\n",
        "# True porque 22 possui na lista\n",
        "\n"
      ],
      "metadata": {
        "colab": {
          "base_uri": "https://localhost:8080/"
        },
        "id": "TCUK7XxMleRk",
        "outputId": "8848e1ce-424c-4025-c725-1bde50526f16"
      },
      "execution_count": null,
      "outputs": [
        {
          "output_type": "execute_result",
          "data": {
            "text/plain": [
              "True"
            ]
          },
          "metadata": {},
          "execution_count": 8
        }
      ]
    },
    {
      "cell_type": "code",
      "source": [
        "# Temos como perguntar quantos elementos especificos existem em uma lista usando o '.count'\n",
        "# entao digitamos a lista ( a minha chama s) e colocamos um . e o count na frente\n",
        "\n",
        "s.count(5)"
      ],
      "metadata": {
        "colab": {
          "base_uri": "https://localhost:8080/"
        },
        "id": "8VPO1YoJmH8E",
        "outputId": "b065b7b5-88c0-413d-aef0-92fa372eef90"
      },
      "execution_count": null,
      "outputs": [
        {
          "output_type": "execute_result",
          "data": {
            "text/plain": [
              "5"
            ]
          },
          "metadata": {},
          "execution_count": 18
        }
      ]
    },
    {
      "cell_type": "code",
      "source": [
        "# Como saber o indice de um elemento especifico? usando o comando '.index'\n",
        "\n",
        "s.index(3)"
      ],
      "metadata": {
        "colab": {
          "base_uri": "https://localhost:8080/"
        },
        "id": "LuwL2u1qlya8",
        "outputId": "997589f7-c23a-4747-deb5-a8f42a0a5f2d"
      },
      "execution_count": null,
      "outputs": [
        {
          "output_type": "execute_result",
          "data": {
            "text/plain": [
              "2"
            ]
          },
          "metadata": {},
          "execution_count": 19
        }
      ]
    },
    {
      "cell_type": "code",
      "source": [
        "# O numero 3 se encontra no indice 2 ( ele é o caractere 2 )\n",
        "\n",
        "# Temos como adicionar um valor qualquer em um indice ( lugar da lista) especifico que desejar\n",
        "#  usando o '.insert' e o nome da lista, por exemplo:\n",
        "\n",
        "s.insert(3, 999)"
      ],
      "metadata": {
        "id": "ueAGONhPmYn9"
      },
      "execution_count": null,
      "outputs": []
    },
    {
      "cell_type": "code",
      "source": [
        "s"
      ],
      "metadata": {
        "colab": {
          "base_uri": "https://localhost:8080/"
        },
        "id": "Au2V2pzUngQc",
        "outputId": "b546d6d2-4a42-439c-9cf7-2fcc7173b508"
      },
      "execution_count": null,
      "outputs": [
        {
          "output_type": "execute_result",
          "data": {
            "text/plain": [
              "[1, 2, 3, 999, 4, 5, 22, 33, 44, 55, 66, 77, 1, 3, 5, 5, 5, 5]"
            ]
          },
          "metadata": {},
          "execution_count": 21
        }
      ]
    },
    {
      "cell_type": "code",
      "source": [
        "# Pode ver que ele adicionou o valor que eu desejava, logo na frente do valor do indice 3\n",
        "# Entao podemos dizer que o 999 se tornou o indice 4\n",
        "\n",
        "# E para ordenar os elementos de forma crescente, usamos o comando '.sort' e o nome da lista\n",
        "\n",
        "s.sort()"
      ],
      "metadata": {
        "id": "snZX6W5XnhJM"
      },
      "execution_count": null,
      "outputs": []
    },
    {
      "cell_type": "code",
      "source": [
        "s"
      ],
      "metadata": {
        "colab": {
          "base_uri": "https://localhost:8080/"
        },
        "id": "MxgX3yp7oUXE",
        "outputId": "53693a89-2c82-4bc7-eca5-557ec0941c4b"
      },
      "execution_count": null,
      "outputs": [
        {
          "output_type": "execute_result",
          "data": {
            "text/plain": [
              "[1, 1, 2, 3, 3, 4, 5, 5, 5, 5, 5, 22, 33, 44, 55, 66, 77, 999]"
            ]
          },
          "metadata": {},
          "execution_count": 23
        }
      ]
    },
    {
      "cell_type": "code",
      "source": [
        "# E para ordenar de forma decrescente usamos o comando '.reverse' e o nome da lista, exemplo:\n",
        "\n",
        "s.reverse()"
      ],
      "metadata": {
        "id": "auyfOAlJoVGc"
      },
      "execution_count": null,
      "outputs": []
    },
    {
      "cell_type": "code",
      "source": [
        "s"
      ],
      "metadata": {
        "colab": {
          "base_uri": "https://localhost:8080/"
        },
        "id": "XStXYY2eoeUE",
        "outputId": "19022f01-2592-4c26-99b1-fdda08372ed6"
      },
      "execution_count": null,
      "outputs": [
        {
          "output_type": "execute_result",
          "data": {
            "text/plain": [
              "[999, 77, 66, 55, 44, 33, 22, 5, 5, 5, 5, 5, 4, 3, 3, 2, 1, 1]"
            ]
          },
          "metadata": {},
          "execution_count": 25
        }
      ]
    },
    {
      "cell_type": "code",
      "source": [
        "# E para fazer uma cópia de uma lista\n",
        "\n",
        "# primeiro a referenciação\n",
        "\n",
        "n = [11,22,33,44,55]\n",
        "n2 = n\n",
        "n2.append(66)"
      ],
      "metadata": {
        "id": "w8r0gnQ8ofJk"
      },
      "execution_count": null,
      "outputs": []
    },
    {
      "cell_type": "code",
      "source": [
        "n2"
      ],
      "metadata": {
        "colab": {
          "base_uri": "https://localhost:8080/"
        },
        "id": "RZoT8rZnpCA8",
        "outputId": "c27d7f8b-ecfe-497e-f53a-260df1a1fcbc"
      },
      "execution_count": null,
      "outputs": [
        {
          "output_type": "execute_result",
          "data": {
            "text/plain": [
              "[11, 22, 33, 44, 55, 66]"
            ]
          },
          "metadata": {},
          "execution_count": 28
        }
      ]
    },
    {
      "cell_type": "code",
      "source": [
        "n"
      ],
      "metadata": {
        "colab": {
          "base_uri": "https://localhost:8080/"
        },
        "id": "wQUqHosxpFOc",
        "outputId": "66296148-3cce-4df9-bfe1-9b6b5396da72"
      },
      "execution_count": null,
      "outputs": [
        {
          "output_type": "execute_result",
          "data": {
            "text/plain": [
              "[11, 22, 33, 44, 55, 66]"
            ]
          },
          "metadata": {},
          "execution_count": 29
        }
      ]
    },
    {
      "cell_type": "code",
      "source": [
        "# Temos que tomar cuidado ao usar a referenciação, pois o comando que for mexido em uma lista\n",
        "# referenciada a outra, sairá espelhada, como aconteceu acima\n",
        "\n",
        "# Para fazer a cópia, colocamos a o nome da nova lista = nome da lista da qual virá a cópia [:]\n",
        "# obs ( usando : fazemos copía da lista por completo, usando o sistema de indice, escolhemos o indice\n",
        "# que começarei a copiar, e o indice que terminaremos de copiar), exemplos:\n",
        "\n",
        "n3 = n[:]"
      ],
      "metadata": {
        "id": "YOdHRhdSpR-V"
      },
      "execution_count": null,
      "outputs": []
    },
    {
      "cell_type": "code",
      "source": [
        "n3"
      ],
      "metadata": {
        "colab": {
          "base_uri": "https://localhost:8080/"
        },
        "id": "6qdRrP-KqGpd",
        "outputId": "fce35e4e-bb33-4187-96dc-c363a3b2902f"
      },
      "execution_count": null,
      "outputs": [
        {
          "output_type": "execute_result",
          "data": {
            "text/plain": [
              "[11, 22, 33, 44, 55, 66]"
            ]
          },
          "metadata": {},
          "execution_count": 31
        }
      ]
    },
    {
      "cell_type": "code",
      "source": [
        "# Se adicionarmos algum valor, ele aparecerá apenas na lista n3, e nao na n também, porque aqui\n",
        "# nós copiamos a lista, e nao estamos fazendo referenciacao nela como anteriormente, entao os comandos\n",
        "# da lista n3 nao serao espelhados para a lista n, exemplo abaixo:\n",
        "\n",
        "n3.append(777)"
      ],
      "metadata": {
        "id": "b2PgzIQhqHXt"
      },
      "execution_count": null,
      "outputs": []
    },
    {
      "cell_type": "code",
      "source": [
        "n3"
      ],
      "metadata": {
        "colab": {
          "base_uri": "https://localhost:8080/"
        },
        "id": "0Aox_h-3qXg2",
        "outputId": "24d6282c-b483-41b5-cf65-cde1ce9beeef"
      },
      "execution_count": null,
      "outputs": [
        {
          "output_type": "execute_result",
          "data": {
            "text/plain": [
              "[11, 22, 33, 44, 55, 66, 777]"
            ]
          },
          "metadata": {},
          "execution_count": 34
        }
      ]
    },
    {
      "cell_type": "code",
      "source": [
        "n"
      ],
      "metadata": {
        "colab": {
          "base_uri": "https://localhost:8080/"
        },
        "id": "R3inLUbUqok7",
        "outputId": "1af676d4-6233-4e79-902d-bbabcb37c6e4"
      },
      "execution_count": null,
      "outputs": [
        {
          "output_type": "execute_result",
          "data": {
            "text/plain": [
              "[11, 22, 33, 44, 55, 66]"
            ]
          },
          "metadata": {},
          "execution_count": 36
        }
      ]
    },
    {
      "cell_type": "code",
      "source": [
        "# A lista n segue intacta e sem alteração\n",
        "# copia de lista a partir de um algoritmo e sem algoritmo final usando [3:] por exemplo:\n",
        "\n",
        "n4 = n[3:]"
      ],
      "metadata": {
        "id": "-cjRIaC-qpB6"
      },
      "execution_count": null,
      "outputs": []
    },
    {
      "cell_type": "code",
      "source": [
        "n4"
      ],
      "metadata": {
        "colab": {
          "base_uri": "https://localhost:8080/"
        },
        "id": "whF5gdhQq5C9",
        "outputId": "a0a746af-6831-448c-cacc-caa1f7613aa5"
      },
      "execution_count": null,
      "outputs": [
        {
          "output_type": "execute_result",
          "data": {
            "text/plain": [
              "[44, 55, 66]"
            ]
          },
          "metadata": {},
          "execution_count": 40
        }
      ]
    },
    {
      "cell_type": "code",
      "source": [
        "# Copiamos a lista a partir do algoritmo 3, sem especificar um algoritmo limite, agora iremos copiar\n",
        "# colocando o algoritmo que começaremos a copiar, até o algoritmo em que desejamos copiar, em suma,\n",
        "# o algoritmo final, exemplo:\n",
        "\n",
        "n5 = n[2:5]"
      ],
      "metadata": {
        "id": "eRl2h_HJq5zG"
      },
      "execution_count": null,
      "outputs": []
    },
    {
      "cell_type": "code",
      "source": [
        "n5"
      ],
      "metadata": {
        "colab": {
          "base_uri": "https://localhost:8080/"
        },
        "id": "Gpmpf1LyrgPi",
        "outputId": "3e50f0b2-2efe-49c0-8864-80fd04333c5c"
      },
      "execution_count": null,
      "outputs": [
        {
          "output_type": "execute_result",
          "data": {
            "text/plain": [
              "[33, 44, 55]"
            ]
          },
          "metadata": {},
          "execution_count": 42
        }
      ]
    },
    {
      "cell_type": "code",
      "source": [
        "# Usando o comando '.copy'\n",
        "\n",
        "n6 = n.copy()"
      ],
      "metadata": {
        "id": "xBLN8G1orhDi"
      },
      "execution_count": null,
      "outputs": []
    },
    {
      "cell_type": "code",
      "source": [
        "n6"
      ],
      "metadata": {
        "colab": {
          "base_uri": "https://localhost:8080/"
        },
        "id": "eWj9nunor2J2",
        "outputId": "5f9c8ba3-9f5d-4847-ec02-44b8ba60f992"
      },
      "execution_count": null,
      "outputs": [
        {
          "output_type": "execute_result",
          "data": {
            "text/plain": [
              "[11, 22, 33, 44, 55, 66]"
            ]
          },
          "metadata": {},
          "execution_count": 45
        }
      ]
    },
    {
      "cell_type": "code",
      "source": [
        "# Dessas formas poderemos trabalhar nessas cópias de forma independente, sem que as outras sejam\n",
        "# alteradas de forma espelhada"
      ],
      "metadata": {
        "id": "JLp4fK-Mr6eO"
      },
      "execution_count": null,
      "outputs": []
    }
  ]
}