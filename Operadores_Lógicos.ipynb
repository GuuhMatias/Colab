{
  "nbformat": 4,
  "nbformat_minor": 0,
  "metadata": {
    "colab": {
      "provenance": [],
      "include_colab_link": true
    },
    "kernelspec": {
      "name": "python3",
      "display_name": "Python 3"
    },
    "language_info": {
      "name": "python"
    }
  },
  "cells": [
    {
      "cell_type": "markdown",
      "metadata": {
        "id": "view-in-github",
        "colab_type": "text"
      },
      "source": [
        "<a href=\"https://colab.research.google.com/github/GuuhMatias/Colab/blob/main/Operadores_L%C3%B3gicos.ipynb\" target=\"_parent\"><img src=\"https://colab.research.google.com/assets/colab-badge.svg\" alt=\"Open In Colab\"/></a>"
      ]
    },
    {
      "cell_type": "code",
      "execution_count": null,
      "metadata": {
        "colab": {
          "base_uri": "https://localhost:8080/"
        },
        "id": "StCZtEwCuL2F",
        "outputId": "c365e6a9-762c-463c-f94d-f5cb5afd3474"
      },
      "outputs": [
        {
          "output_type": "execute_result",
          "data": {
            "text/plain": [
              "True"
            ]
          },
          "metadata": {},
          "execution_count": 1
        }
      ],
      "source": [
        "# \"and\" Usado para dizer se dois argumentos são falsos ou verdadeiros\n",
        "\n",
        "3 > 1 and 4 > 2"
      ]
    },
    {
      "cell_type": "code",
      "source": [
        "4 > 2 and 5 > 8"
      ],
      "metadata": {
        "colab": {
          "base_uri": "https://localhost:8080/"
        },
        "id": "iqIVoyDjubbD",
        "outputId": "acc7e1a3-3823-4c45-fab8-086b3c6117c0"
      },
      "execution_count": null,
      "outputs": [
        {
          "output_type": "execute_result",
          "data": {
            "text/plain": [
              "False"
            ]
          },
          "metadata": {},
          "execution_count": 2
        }
      ]
    },
    {
      "cell_type": "code",
      "source": [
        "# \"or\" Para confirmar se um dos dois argumentos sao verdadeiros, ou falsos, ou seja, um exemplo\n",
        "# 1 > 9 or 9 > 10\n",
        "\n",
        "1 > 9 or 9 > 10\n",
        "\n",
        "# Se os dois argumentos forem falsos, resultará em false, mas se um dos argumentos for verdadeiro\n",
        "#ele sempre resultará em true\n"
      ],
      "metadata": {
        "colab": {
          "base_uri": "https://localhost:8080/"
        },
        "id": "Z00GFfAnuhA2",
        "outputId": "124337d7-e9b5-40ec-8784-7434c618a850"
      },
      "execution_count": null,
      "outputs": [
        {
          "output_type": "execute_result",
          "data": {
            "text/plain": [
              "False"
            ]
          },
          "metadata": {},
          "execution_count": 3
        }
      ]
    },
    {
      "cell_type": "code",
      "source": [
        " 1 > 2 or 4 > 2"
      ],
      "metadata": {
        "colab": {
          "base_uri": "https://localhost:8080/"
        },
        "id": "RfGT32K8vDR4",
        "outputId": "b8e1bd6e-61e8-4ad8-ef9e-3f7c8656d4d4"
      },
      "execution_count": null,
      "outputs": [
        {
          "output_type": "execute_result",
          "data": {
            "text/plain": [
              "True"
            ]
          },
          "metadata": {},
          "execution_count": 5
        }
      ]
    },
    {
      "cell_type": "code",
      "source": [
        "4 > 2 or 1 > 3"
      ],
      "metadata": {
        "colab": {
          "base_uri": "https://localhost:8080/"
        },
        "id": "oJs5wB46vYm8",
        "outputId": "1747cd7c-066f-4a0e-f218-8c42209e326f"
      },
      "execution_count": null,
      "outputs": [
        {
          "output_type": "execute_result",
          "data": {
            "text/plain": [
              "True"
            ]
          },
          "metadata": {},
          "execution_count": 6
        }
      ]
    },
    {
      "cell_type": "code",
      "source": [
        "# \"not\" Usado para inverter o resultado atribuido na operação\n",
        "\n",
        "not(1 > 2 or 4 > 2)\n",
        "\n",
        "#Nessa operação acima o resultado deveria ser true, mas o operador \"not\" inverte esse valor atribuido\n",
        "# outro exemplo"
      ],
      "metadata": {
        "colab": {
          "base_uri": "https://localhost:8080/"
        },
        "id": "khrJKK1TviqW",
        "outputId": "84789674-a23f-4bba-bf35-d7809ffd408e"
      },
      "execution_count": null,
      "outputs": [
        {
          "output_type": "execute_result",
          "data": {
            "text/plain": [
              "False"
            ]
          },
          "metadata": {},
          "execution_count": 7
        }
      ]
    },
    {
      "cell_type": "code",
      "source": [
        "not(1 > 9 or 9 > 10)\n",
        "\n",
        "#E a operação acima era False, mas como o resultado foi invertido, ele passou a ser True"
      ],
      "metadata": {
        "colab": {
          "base_uri": "https://localhost:8080/"
        },
        "id": "wQtPiFLov95_",
        "outputId": "e585beb9-15fa-43ab-856b-de0b101ca652"
      },
      "execution_count": null,
      "outputs": [
        {
          "output_type": "execute_result",
          "data": {
            "text/plain": [
              "True"
            ]
          },
          "metadata": {},
          "execution_count": 8
        }
      ]
    },
    {
      "cell_type": "code",
      "source": [],
      "metadata": {
        "id": "Hvkp8XUHwdew"
      },
      "execution_count": null,
      "outputs": []
    }
  ]
}