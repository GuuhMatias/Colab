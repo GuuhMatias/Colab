{
  "nbformat": 4,
  "nbformat_minor": 0,
  "metadata": {
    "colab": {
      "provenance": [],
      "include_colab_link": true
    },
    "kernelspec": {
      "name": "python3",
      "display_name": "Python 3"
    },
    "language_info": {
      "name": "python"
    }
  },
  "cells": [
    {
      "cell_type": "markdown",
      "metadata": {
        "id": "view-in-github",
        "colab_type": "text"
      },
      "source": [
        "<a href=\"https://colab.research.google.com/github/GuuhMatias/Colab/blob/main/Funcoes.ipynb\" target=\"_parent\"><img src=\"https://colab.research.google.com/assets/colab-badge.svg\" alt=\"Open In Colab\"/></a>"
      ]
    },
    {
      "cell_type": "code",
      "execution_count": null,
      "metadata": {
        "id": "llmUgJBsWEIh"
      },
      "outputs": [],
      "source": [
        "# Funções\n",
        "\n",
        "# Como criar as funcoes dentro do Python\n",
        "\n",
        "def print_text():\n",
        "  print('Aqui é um texto!')\n"
      ]
    },
    {
      "cell_type": "code",
      "source": [
        "print_text()"
      ],
      "metadata": {
        "colab": {
          "base_uri": "https://localhost:8080/"
        },
        "id": "2JbSG0dCXjBS",
        "outputId": "c04a803b-fd28-4095-87c8-6ab027e781bd"
      },
      "execution_count": null,
      "outputs": [
        {
          "output_type": "stream",
          "name": "stdout",
          "text": [
            "Aqui é um texto!\n"
          ]
        }
      ]
    },
    {
      "cell_type": "code",
      "source": [
        "\n",
        "# Criei uma função, e logo após eu a chamei para ser executada\n",
        "\n",
        "def print_isto():\n",
        "    print(x)"
      ],
      "metadata": {
        "id": "EGDe6oyeXqaO"
      },
      "execution_count": null,
      "outputs": []
    },
    {
      "cell_type": "code",
      "source": [
        "print_isto('Python')"
      ],
      "metadata": {
        "colab": {
          "base_uri": "https://localhost:8080/"
        },
        "id": "BRb3GZ24X5VV",
        "outputId": "84135014-cbcd-4d90-868a-038045f36de8"
      },
      "execution_count": null,
      "outputs": [
        {
          "output_type": "stream",
          "name": "stdout",
          "text": [
            "Python\n"
          ]
        }
      ]
    },
    {
      "cell_type": "code",
      "source": [
        "print_isto(18921)"
      ],
      "metadata": {
        "colab": {
          "base_uri": "https://localhost:8080/"
        },
        "id": "GCotGHkvYDtG",
        "outputId": "157564f5-cf76-4b86-adae-8884ea0eccce"
      },
      "execution_count": null,
      "outputs": [
        {
          "output_type": "stream",
          "name": "stdout",
          "text": [
            "18921\n"
          ]
        }
      ]
    },
    {
      "cell_type": "code",
      "source": [
        "# Colocamos um argumento de entrada na linha de operaçao 'def print_isto()'\n",
        "# E se nao colocarmos argumento de entrada entre os parenteses, e tentarmos executar a funcao print isto\n",
        "# vai resultar em um erro\n",
        "\n",
        "print_isto('deoeofe')"
      ],
      "metadata": {
        "colab": {
          "base_uri": "https://localhost:8080/",
          "height": 210
        },
        "id": "1XNQf6MFYPrm",
        "outputId": "1ab0bc07-9ab1-4c29-d4d4-dbc741fc38c9"
      },
      "execution_count": null,
      "outputs": [
        {
          "output_type": "error",
          "ename": "TypeError",
          "evalue": "ignored",
          "traceback": [
            "\u001b[0;31m---------------------------------------------------------------------------\u001b[0m",
            "\u001b[0;31mTypeError\u001b[0m                                 Traceback (most recent call last)",
            "\u001b[0;32m<ipython-input-15-980bd67754d7>\u001b[0m in \u001b[0;36m<cell line: 5>\u001b[0;34m()\u001b[0m\n\u001b[1;32m      3\u001b[0m \u001b[0;31m# vai resultar em um erro\u001b[0m\u001b[0;34m\u001b[0m\u001b[0;34m\u001b[0m\u001b[0m\n\u001b[1;32m      4\u001b[0m \u001b[0;34m\u001b[0m\u001b[0m\n\u001b[0;32m----> 5\u001b[0;31m \u001b[0mprint_isto\u001b[0m\u001b[0;34m(\u001b[0m\u001b[0;34m'deoeofe'\u001b[0m\u001b[0;34m)\u001b[0m\u001b[0;34m\u001b[0m\u001b[0;34m\u001b[0m\u001b[0m\n\u001b[0m",
            "\u001b[0;31mTypeError\u001b[0m: print_isto() takes 0 positional arguments but 1 was given"
          ]
        }
      ]
    },
    {
      "cell_type": "code",
      "source": [
        "# funcao potencia\n",
        "\n",
        "def potencia(x):\n",
        "   p = x ** 2\n",
        "   return p\n",
        "\n",
        "   # Após criarmos a função, chamamos ela e entre() colocamos o valor que queremos usar a potencializacao\n",
        "   # exemplo: potencia(10)"
      ],
      "metadata": {
        "id": "0yTef6JAYm0v"
      },
      "execution_count": null,
      "outputs": []
    },
    {
      "cell_type": "code",
      "source": [
        "potencia(10)"
      ],
      "metadata": {
        "colab": {
          "base_uri": "https://localhost:8080/"
        },
        "id": "urDR-MbWcrjo",
        "outputId": "f8c31adf-cf0e-4ddd-f8b8-77dbbf5189a8"
      },
      "execution_count": null,
      "outputs": [
        {
          "output_type": "execute_result",
          "data": {
            "text/plain": [
              "100"
            ]
          },
          "metadata": {},
          "execution_count": 19
        }
      ]
    },
    {
      "cell_type": "code",
      "source": [
        "potencia(5)"
      ],
      "metadata": {
        "colab": {
          "base_uri": "https://localhost:8080/"
        },
        "id": "2956d0kkdEko",
        "outputId": "c104ce1b-aa36-4083-dc3b-68f6d9624aee"
      },
      "execution_count": null,
      "outputs": [
        {
          "output_type": "execute_result",
          "data": {
            "text/plain": [
              "25"
            ]
          },
          "metadata": {},
          "execution_count": 20
        }
      ]
    },
    {
      "cell_type": "code",
      "source": [
        "# funcoes com parametros padroes\n",
        "\n",
        "def potencia_n(x, n = 2):\n",
        "  p = x ** n\n",
        "  return p"
      ],
      "metadata": {
        "id": "LMzDhl8JdHCY"
      },
      "execution_count": null,
      "outputs": []
    },
    {
      "cell_type": "code",
      "source": [
        "potencia_n(2, 4)\n",
        "\n",
        "# dessa forma conseguimos fazer a operacao tanto com valor definido de n ou nao\n",
        "# mas existe a forma mais simplificada disso"
      ],
      "metadata": {
        "colab": {
          "base_uri": "https://localhost:8080/"
        },
        "id": "5vQ_jM7Tdgog",
        "outputId": "221c3d01-4402-4fe2-d479-107f9a37fbaa"
      },
      "execution_count": null,
      "outputs": [
        {
          "output_type": "execute_result",
          "data": {
            "text/plain": [
              "16"
            ]
          },
          "metadata": {},
          "execution_count": 25
        }
      ]
    },
    {
      "cell_type": "code",
      "source": [
        "potencia_n(4)\n",
        "\n",
        "# essa é a forma mais simplificada, mas acontece que se nao tiver valor definido em n, a operacao falhará\n",
        "# exemplo:\n",
        "\n",
        "def potencia_n(x, n):\n",
        "  p = x ** n\n",
        "  return p\n",
        "\n",
        "  potencia_n(4)\n"
      ],
      "metadata": {
        "colab": {
          "base_uri": "https://localhost:8080/",
          "height": 262
        },
        "id": "1DgfBIsJdh1H",
        "outputId": "b87da222-785d-496d-e429-ad1264d2426d"
      },
      "execution_count": null,
      "outputs": [
        {
          "output_type": "error",
          "ename": "TypeError",
          "evalue": "ignored",
          "traceback": [
            "\u001b[0;31m---------------------------------------------------------------------------\u001b[0m",
            "\u001b[0;31mTypeError\u001b[0m                                 Traceback (most recent call last)",
            "\u001b[0;32m<ipython-input-28-d4f32954cbf8>\u001b[0m in \u001b[0;36m<cell line: 1>\u001b[0;34m()\u001b[0m\n\u001b[0;32m----> 1\u001b[0;31m \u001b[0mpotencia_n\u001b[0m\u001b[0;34m(\u001b[0m\u001b[0;36m4\u001b[0m\u001b[0;34m)\u001b[0m\u001b[0;34m\u001b[0m\u001b[0;34m\u001b[0m\u001b[0m\n\u001b[0m\u001b[1;32m      2\u001b[0m \u001b[0;34m\u001b[0m\u001b[0m\n\u001b[1;32m      3\u001b[0m \u001b[0;31m# essa é a forma mais simplificada, mas acontece que se nao tiver valor definido em n, a operacao falhará\u001b[0m\u001b[0;34m\u001b[0m\u001b[0;34m\u001b[0m\u001b[0m\n\u001b[1;32m      4\u001b[0m \u001b[0;31m# exemplo:\u001b[0m\u001b[0;34m\u001b[0m\u001b[0;34m\u001b[0m\u001b[0m\n\u001b[1;32m      5\u001b[0m \u001b[0;34m\u001b[0m\u001b[0m\n",
            "\u001b[0;31mTypeError\u001b[0m: potencia_n() missing 1 required positional argument: 'n'"
          ]
        }
      ]
    },
    {
      "cell_type": "code",
      "source": [
        "# funcoes e seus retornos\n",
        "\n",
        "def soma(a,b):\n",
        "  s = a + b\n",
        "  return s\n",
        "\n",
        "def multiplica(a, b):\n",
        "  m = a * b\n",
        "  return m\n",
        "\n",
        "def soma_multiplica(a,b):\n",
        "  s = soma(a,b)\n",
        "  m = multiplica(a,b)\n",
        "  return print('Soma = '+ str(s) +', Multiplica = ' +str(m))"
      ],
      "metadata": {
        "id": "rin9Vl9ZeBzZ"
      },
      "execution_count": null,
      "outputs": []
    },
    {
      "cell_type": "code",
      "source": [
        "x = soma_multiplica(5,2)\n"
      ],
      "metadata": {
        "colab": {
          "base_uri": "https://localhost:8080/"
        },
        "id": "AIZUB1GSrBs_",
        "outputId": "68851739-0de6-4e49-af65-6c476edb2ac7"
      },
      "execution_count": null,
      "outputs": [
        {
          "output_type": "stream",
          "name": "stdout",
          "text": [
            "Soma = 7, Multiplica = 10\n"
          ]
        }
      ]
    },
    {
      "cell_type": "code",
      "source": [
        "type(x) # Em toda essa operacao, tivemos um retorno de nada como diz o comando type, nao temos um objeto\n",
        "# isso porque estamos retornando um print, o que nao significa nada, nao representa nenhum tipo de objeto"
      ],
      "metadata": {
        "colab": {
          "base_uri": "https://localhost:8080/"
        },
        "id": "NT-pU9uzt27w",
        "outputId": "53cc21e2-7b6f-4b96-9010-9e7da1bd833e"
      },
      "execution_count": null,
      "outputs": [
        {
          "output_type": "execute_result",
          "data": {
            "text/plain": [
              "NoneType"
            ]
          },
          "metadata": {},
          "execution_count": 51
        }
      ]
    },
    {
      "cell_type": "code",
      "source": [
        "def soma_multiplica_str(a,b):\n",
        "  s = soma(a,b)\n",
        "  m = multiplica(a,b)\n",
        "  st = 'Soma = '+ str(s) +', Multiplica = '+ str(m)\n",
        "  return st\n",
        "\n",
        "\n"
      ],
      "metadata": {
        "id": "ME8Qa31asC-P"
      },
      "execution_count": null,
      "outputs": []
    },
    {
      "cell_type": "code",
      "source": [
        "y = soma_multiplica_str(4,2)"
      ],
      "metadata": {
        "id": "bpypYzJUtIcR"
      },
      "execution_count": null,
      "outputs": []
    },
    {
      "cell_type": "code",
      "source": [
        "y"
      ],
      "metadata": {
        "colab": {
          "base_uri": "https://localhost:8080/",
          "height": 38
        },
        "id": "x-CqaJtbtKY3",
        "outputId": "4d69a32a-9578-471d-a8c8-54eec2e8879e"
      },
      "execution_count": null,
      "outputs": [
        {
          "output_type": "execute_result",
          "data": {
            "text/plain": [
              "'Soma = 6, Multiplica = 8'"
            ],
            "application/vnd.google.colaboratory.intrinsic+json": {
              "type": "string"
            }
          },
          "metadata": {},
          "execution_count": 45
        }
      ]
    },
    {
      "cell_type": "code",
      "source": [
        "type(y) # E aqui retornamos uma string, porque toda a operação vai nos gerar uma string,"
      ],
      "metadata": {
        "colab": {
          "base_uri": "https://localhost:8080/"
        },
        "id": "EFdUeBxWtlOO",
        "outputId": "dc6c2ad3-a17f-4e6a-9132-349546e7055c"
      },
      "execution_count": null,
      "outputs": [
        {
          "output_type": "execute_result",
          "data": {
            "text/plain": [
              "str"
            ]
          },
          "metadata": {},
          "execution_count": 46
        }
      ]
    },
    {
      "cell_type": "code",
      "source": [
        " # Posso simplificar toda essa operação, e serve com todas as funcoes\n",
        "\n",
        "def soma(a,b):\n",
        "  return (a + b)\n"
      ],
      "metadata": {
        "id": "zctvS-fKtnQm"
      },
      "execution_count": null,
      "outputs": []
    },
    {
      "cell_type": "code",
      "source": [
        "soma(3,2)"
      ],
      "metadata": {
        "colab": {
          "base_uri": "https://localhost:8080/"
        },
        "id": "3Q4unxcAu8fI",
        "outputId": "bc06e46b-382c-4012-ebf7-7f12877a0d3a"
      },
      "execution_count": null,
      "outputs": [
        {
          "output_type": "execute_result",
          "data": {
            "text/plain": [
              "5"
            ]
          },
          "metadata": {},
          "execution_count": 54
        }
      ]
    },
    {
      "cell_type": "code",
      "source": [
        "# Nessa operacao nós fomos mais objetivos e direto ao ponto, simplificando toda a operacao"
      ],
      "metadata": {
        "id": "9t2-jMWTu-In"
      },
      "execution_count": null,
      "outputs": []
    },
    {
      "cell_type": "code",
      "source": [
        "# Funcoes com argumentos indeterminados\n",
        "\n",
        "def soma(a,b):\n",
        "  return a+b\n"
      ],
      "metadata": {
        "id": "NOWPInkyvNPv"
      },
      "execution_count": null,
      "outputs": []
    },
    {
      "cell_type": "code",
      "source": [
        "def soma(a,b,c):\n",
        "  return a+b+c"
      ],
      "metadata": {
        "id": "UxFKUZ3NvXQ4"
      },
      "execution_count": null,
      "outputs": []
    },
    {
      "cell_type": "code",
      "source": [
        "def soma_valores(*valores):\n",
        "  soma = 0\n",
        "  for i in valores:\n",
        "    soma = soma + i\n",
        "  return soma"
      ],
      "metadata": {
        "id": "H0EwR9JRvaSg"
      },
      "execution_count": null,
      "outputs": []
    },
    {
      "cell_type": "code",
      "source": [
        "soma_valores(2,1)"
      ],
      "metadata": {
        "colab": {
          "base_uri": "https://localhost:8080/"
        },
        "id": "r9zVcWiOv7PI",
        "outputId": "3bd1825a-fed7-42e5-e3d9-f3953b668004"
      },
      "execution_count": null,
      "outputs": [
        {
          "output_type": "execute_result",
          "data": {
            "text/plain": [
              "3"
            ]
          },
          "metadata": {},
          "execution_count": 70
        }
      ]
    },
    {
      "cell_type": "code",
      "source": [
        "soma_valores(5,20)"
      ],
      "metadata": {
        "colab": {
          "base_uri": "https://localhost:8080/"
        },
        "id": "9rKoNmvRv_1I",
        "outputId": "14a4d8a1-28a8-44aa-f826-94537c36ba75"
      },
      "execution_count": null,
      "outputs": [
        {
          "output_type": "execute_result",
          "data": {
            "text/plain": [
              "25"
            ]
          },
          "metadata": {},
          "execution_count": 71
        }
      ]
    },
    {
      "cell_type": "code",
      "source": [
        "soma_valores(5,2,5)"
      ],
      "metadata": {
        "colab": {
          "base_uri": "https://localhost:8080/"
        },
        "id": "lWJpvRJIwZKw",
        "outputId": "0a465224-069d-4a19-d6ea-0469f4bde4c3"
      },
      "execution_count": null,
      "outputs": [
        {
          "output_type": "execute_result",
          "data": {
            "text/plain": [
              "12"
            ]
          },
          "metadata": {},
          "execution_count": 72
        }
      ]
    },
    {
      "cell_type": "code",
      "source": [
        "# determinamos as funcoes para concluir as operacoes, usando o comando \"for i\" e criando uma variavel\n",
        "# soma e somando a variavel com o i (soma = soma + i) e na linha de conexao do comando for, usar o comando\n",
        "# return soma, para ser retornado o valor"
      ],
      "metadata": {
        "id": "OEP_5RvZwbmw"
      },
      "execution_count": null,
      "outputs": []
    },
    {
      "cell_type": "code",
      "source": [],
      "metadata": {
        "id": "R8psTXuYxIai"
      },
      "execution_count": null,
      "outputs": []
    }
  ]
}