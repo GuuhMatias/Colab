{
  "nbformat": 4,
  "nbformat_minor": 0,
  "metadata": {
    "colab": {
      "provenance": [],
      "include_colab_link": true
    },
    "kernelspec": {
      "name": "python3",
      "display_name": "Python 3"
    },
    "language_info": {
      "name": "python"
    }
  },
  "cells": [
    {
      "cell_type": "markdown",
      "metadata": {
        "id": "view-in-github",
        "colab_type": "text"
      },
      "source": [
        "<a href=\"https://colab.research.google.com/github/GuuhMatias/Colab/blob/main/Indexa%C3%A7%C3%A3o.ipynb\" target=\"_parent\"><img src=\"https://colab.research.google.com/assets/colab-badge.svg\" alt=\"Open In Colab\"/></a>"
      ]
    },
    {
      "cell_type": "code",
      "execution_count": null,
      "metadata": {
        "id": "gZUUgunK_k1w",
        "colab": {
          "base_uri": "https://localhost:8080/"
        },
        "outputId": "09be0add-9b82-413d-beb7-50855aaf3fc6"
      },
      "outputs": [
        {
          "output_type": "execute_result",
          "data": {
            "text/plain": [
              "str"
            ]
          },
          "metadata": {},
          "execution_count": 1
        }
      ],
      "source": [
        "# Para manipular sequencias de disposicao de dados em alguns tipos de estrutura em Python precisamos\n",
        "# entender como é feita a contagem de indices de referenciação\n",
        "\n",
        "# A indexação em Python começa por ZERO\n",
        "\n",
        "var = \"python\"\n",
        "type(var)\n"
      ]
    },
    {
      "cell_type": "code",
      "source": [
        "len(var)"
      ],
      "metadata": {
        "id": "js9q1-7___1G",
        "colab": {
          "base_uri": "https://localhost:8080/"
        },
        "outputId": "838c8b82-3e78-4ed3-f966-f328e7770f24"
      },
      "execution_count": null,
      "outputs": [
        {
          "output_type": "execute_result",
          "data": {
            "text/plain": [
              "6"
            ]
          },
          "metadata": {},
          "execution_count": 2
        }
      ]
    },
    {
      "cell_type": "code",
      "source": [
        "# o resultado 6 é o numero de caracteres que existe na variavel, ou seja, a palavra Python tem 6 linhas\n",
        "\n",
        "# Busca de caractere, utilizando o numero respectivo do caractere, lembrando que a indexação começa por 0\n",
        "\n",
        "var[0]"
      ],
      "metadata": {
        "colab": {
          "base_uri": "https://localhost:8080/",
          "height": 38
        },
        "id": "3P8hHOMhd-aA",
        "outputId": "5deabbaf-598b-4383-bf5c-5468aaf9c166"
      },
      "execution_count": null,
      "outputs": [
        {
          "output_type": "execute_result",
          "data": {
            "text/plain": [
              "'p'"
            ],
            "application/vnd.google.colaboratory.intrinsic+json": {
              "type": "string"
            }
          },
          "metadata": {},
          "execution_count": 4
        }
      ]
    },
    {
      "cell_type": "code",
      "source": [
        "var.find('t')"
      ],
      "metadata": {
        "colab": {
          "base_uri": "https://localhost:8080/"
        },
        "id": "_x3QZUm0eYXB",
        "outputId": "7f3ef8ae-5eeb-4e7d-eae0-e2ca81d61270"
      },
      "execution_count": null,
      "outputs": [
        {
          "output_type": "execute_result",
          "data": {
            "text/plain": [
              "2"
            ]
          },
          "metadata": {},
          "execution_count": 5
        }
      ]
    },
    {
      "cell_type": "code",
      "source": [
        "# Buscando o numero do caractere pela letra, como começa por 0, o t é o caractere 2\n",
        "\n",
        "#Slicing - Fatiamentos ( Usado para contar um conjunto de caracteres de uma posicao especifica até outra )\n",
        "\n",
        "frase = \"Python é uma linguagem muito poderosa!\"\n",
        "\n",
        "frase[0:9]\n",
        "\n"
      ],
      "metadata": {
        "id": "J1VzWoshejm4",
        "colab": {
          "base_uri": "https://localhost:8080/",
          "height": 38
        },
        "outputId": "e5528a02-a9e5-4468-b221-7e17232ae3f6"
      },
      "execution_count": null,
      "outputs": [
        {
          "output_type": "execute_result",
          "data": {
            "text/plain": [
              "'Python é '"
            ],
            "application/vnd.google.colaboratory.intrinsic+json": {
              "type": "string"
            }
          },
          "metadata": {},
          "execution_count": 6
        }
      ]
    },
    {
      "cell_type": "code",
      "source": [
        "# Podemos começar a procurar desde o inicio até um caractere especifico, para isso é só nao colocar\n",
        "# o primeiro numero, exemplo\n",
        "\n",
        "frase[:11]"
      ],
      "metadata": {
        "colab": {
          "base_uri": "https://localhost:8080/",
          "height": 38
        },
        "id": "gISGtyQTsgBH",
        "outputId": "71e76147-05f3-476b-a164-a76a7da376c0"
      },
      "execution_count": null,
      "outputs": [
        {
          "output_type": "execute_result",
          "data": {
            "text/plain": [
              "'Python é um'"
            ],
            "application/vnd.google.colaboratory.intrinsic+json": {
              "type": "string"
            }
          },
          "metadata": {},
          "execution_count": 7
        }
      ]
    },
    {
      "cell_type": "code",
      "source": [
        "# Para coletar direto o ultimo caractere basta colocar de tras para frente e usando nmrs negativos\n",
        "\n",
        "frase[-1]"
      ],
      "metadata": {
        "colab": {
          "base_uri": "https://localhost:8080/",
          "height": 38
        },
        "id": "rfR9lKHrs85t",
        "outputId": "661a4dd1-8fe0-4ac2-b449-991745767ba3"
      },
      "execution_count": null,
      "outputs": [
        {
          "output_type": "execute_result",
          "data": {
            "text/plain": [
              "'!'"
            ],
            "application/vnd.google.colaboratory.intrinsic+json": {
              "type": "string"
            }
          },
          "metadata": {},
          "execution_count": 8
        }
      ]
    },
    {
      "cell_type": "code",
      "source": [
        "# Posso pegar as frases de trás para frente também usando nmrs negativos\n",
        "\n",
        "frase[-9 :-1]"
      ],
      "metadata": {
        "colab": {
          "base_uri": "https://localhost:8080/",
          "height": 38
        },
        "id": "cUM9r7cAtVtN",
        "outputId": "07e246b5-b6c2-469c-af80-95c1f9a7f1d2"
      },
      "execution_count": null,
      "outputs": [
        {
          "output_type": "execute_result",
          "data": {
            "text/plain": [
              "'poderosa'"
            ],
            "application/vnd.google.colaboratory.intrinsic+json": {
              "type": "string"
            }
          },
          "metadata": {},
          "execution_count": 10
        }
      ]
    },
    {
      "cell_type": "code",
      "source": [
        "# Posso copiar a minha string de uma só vez, utilizando o comando :: duas vezes dentro dos [] e colocando\n",
        "# o numero 1 no final\n",
        "\n",
        "frase[::1]"
      ],
      "metadata": {
        "colab": {
          "base_uri": "https://localhost:8080/",
          "height": 38
        },
        "id": "YX3a_GpAteFd",
        "outputId": "e5b34385-8406-4cd6-f81e-52fc62e19172"
      },
      "execution_count": null,
      "outputs": [
        {
          "output_type": "execute_result",
          "data": {
            "text/plain": [
              "'Python é uma linguagem muito poderosa!'"
            ],
            "application/vnd.google.colaboratory.intrinsic+json": {
              "type": "string"
            }
          },
          "metadata": {},
          "execution_count": 11
        }
      ]
    },
    {
      "cell_type": "code",
      "source": [
        "# Para copiar a frase pulando 1 letra, trazendo caracteres de 1 em 1\n",
        "\n",
        "frase[::2]"
      ],
      "metadata": {
        "colab": {
          "base_uri": "https://localhost:8080/",
          "height": 38
        },
        "id": "7Q51YIG1tv02",
        "outputId": "5d585be9-b30a-4620-a5c5-6bc0305b28c6"
      },
      "execution_count": null,
      "outputs": [
        {
          "output_type": "execute_result",
          "data": {
            "text/plain": [
              "'Pto  m igae ut oeoa'"
            ],
            "application/vnd.google.colaboratory.intrinsic+json": {
              "type": "string"
            }
          },
          "metadata": {},
          "execution_count": 12
        }
      ]
    },
    {
      "cell_type": "code",
      "source": [
        "# Para inverter as palavras, coletar a frase de trás para frente, dessa forma:\n",
        "\n",
        "frase[::-1]"
      ],
      "metadata": {
        "colab": {
          "base_uri": "https://localhost:8080/",
          "height": 38
        },
        "id": "TFoZ6LJDuKbG",
        "outputId": "2ccc29e5-7315-455b-cb32-1d5112440a08"
      },
      "execution_count": null,
      "outputs": [
        {
          "output_type": "execute_result",
          "data": {
            "text/plain": [
              "'!asoredop otium megaugnil amu é nohtyP'"
            ],
            "application/vnd.google.colaboratory.intrinsic+json": {
              "type": "string"
            }
          },
          "metadata": {},
          "execution_count": 13
        }
      ]
    },
    {
      "cell_type": "code",
      "source": [],
      "metadata": {
        "id": "qb5W15XruXk-"
      },
      "execution_count": null,
      "outputs": []
    },
    {
      "cell_type": "code",
      "source": [],
      "metadata": {
        "id": "FLXsDVmRuk5G"
      },
      "execution_count": null,
      "outputs": []
    }
  ]
}