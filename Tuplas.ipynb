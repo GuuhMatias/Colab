{
  "nbformat": 4,
  "nbformat_minor": 0,
  "metadata": {
    "colab": {
      "provenance": [],
      "include_colab_link": true
    },
    "kernelspec": {
      "name": "python3",
      "display_name": "Python 3"
    },
    "language_info": {
      "name": "python"
    }
  },
  "cells": [
    {
      "cell_type": "markdown",
      "metadata": {
        "id": "view-in-github",
        "colab_type": "text"
      },
      "source": [
        "<a href=\"https://colab.research.google.com/github/GuuhMatias/Colab/blob/main/Tuplas.ipynb\" target=\"_parent\"><img src=\"https://colab.research.google.com/assets/colab-badge.svg\" alt=\"Open In Colab\"/></a>"
      ]
    },
    {
      "cell_type": "code",
      "execution_count": null,
      "metadata": {
        "colab": {
          "base_uri": "https://localhost:8080/"
        },
        "id": "CXjdKz_M3Wgp",
        "outputId": "0b42d847-5940-4f56-9f00-6e559b1ce777"
      },
      "outputs": [
        {
          "output_type": "execute_result",
          "data": {
            "text/plain": [
              "tuple"
            ]
          },
          "metadata": {},
          "execution_count": 2
        }
      ],
      "source": [
        "# Tuplas nao sao mutaveis, uma vez criada, nada pode ser adicionado, substituido ou removido\n",
        "# e tupla é definida quando abrimos ()\n",
        "\n",
        "t = (1,2,3,4,5,6)\n",
        "\n",
        "type(t)\n"
      ]
    },
    {
      "cell_type": "code",
      "source": [
        "# Tupla só podemos usar 2 comandos, que sao o de contagem ( .count ) e o index, que é para\n",
        "# descobrir em que algoritmo se encontra o valor ou palavra mencionado\n",
        "\n",
        "t[3]"
      ],
      "metadata": {
        "colab": {
          "base_uri": "https://localhost:8080/"
        },
        "id": "mo-_ReZA38Ee",
        "outputId": "1423dcfd-6ebd-4c3f-c13b-df26f77121a6"
      },
      "execution_count": null,
      "outputs": [
        {
          "output_type": "execute_result",
          "data": {
            "text/plain": [
              "4"
            ]
          },
          "metadata": {},
          "execution_count": 4
        }
      ]
    },
    {
      "cell_type": "code",
      "source": [
        "# E tuplas nao possuem obrigatoriedade dos elementos estarem entre ()\n",
        "\n",
        "t2 = '1', '2,' '3'\n"
      ],
      "metadata": {
        "id": "wyQM52lb4RG2"
      },
      "execution_count": null,
      "outputs": []
    },
    {
      "cell_type": "code",
      "source": [
        "type(t2)"
      ],
      "metadata": {
        "colab": {
          "base_uri": "https://localhost:8080/"
        },
        "id": "254Yko_p46DF",
        "outputId": "a5eeea41-b86b-407f-f6d7-cba3ae43d27d"
      },
      "execution_count": null,
      "outputs": [
        {
          "output_type": "execute_result",
          "data": {
            "text/plain": [
              "tuple"
            ]
          },
          "metadata": {},
          "execution_count": 7
        }
      ]
    },
    {
      "cell_type": "code",
      "source": [
        "# Tambem podemos adicionar nossa tupla em uma lista\n",
        "\n",
        "t3 = (1,2,3,4,5)"
      ],
      "metadata": {
        "id": "BjLwtteq49Yu"
      },
      "execution_count": null,
      "outputs": []
    },
    {
      "cell_type": "code",
      "source": [
        "l = list(t3)"
      ],
      "metadata": {
        "id": "yqg9ofVm5HuW"
      },
      "execution_count": null,
      "outputs": []
    },
    {
      "cell_type": "code",
      "source": [
        "l"
      ],
      "metadata": {
        "colab": {
          "base_uri": "https://localhost:8080/"
        },
        "id": "z5VD6eaT5Jp2",
        "outputId": "a0925732-249c-46bb-9c92-ac70ca8f484f"
      },
      "execution_count": null,
      "outputs": [
        {
          "output_type": "execute_result",
          "data": {
            "text/plain": [
              "[1, 2, 3, 4, 5]"
            ]
          },
          "metadata": {},
          "execution_count": 24
        }
      ]
    },
    {
      "cell_type": "code",
      "source": [
        "# após essa transformacao podemos fazer o que quisermos com a lista, como adicionar valores ou retirar\n",
        "# valores, nomes, e etc\n",
        "# e ainda podemos transformar novamente em uma tupla e todas as alteracoes serao mantidas na tupla\n",
        "\n",
        "l.append(6)"
      ],
      "metadata": {
        "id": "ngFLvb_L5KQu"
      },
      "execution_count": null,
      "outputs": []
    },
    {
      "cell_type": "code",
      "source": [],
      "metadata": {
        "colab": {
          "base_uri": "https://localhost:8080/"
        },
        "id": "HuLwTJxE5dKO",
        "outputId": "7e96614e-6cca-4bd4-e17f-72ea6b17430c"
      },
      "execution_count": null,
      "outputs": [
        {
          "output_type": "execute_result",
          "data": {
            "text/plain": [
              "[1, 2, 3, 4, 5, 6]"
            ]
          },
          "metadata": {},
          "execution_count": 20
        }
      ]
    },
    {
      "cell_type": "code",
      "source": [
        "t3 = tuple(l)\n",
        "\n",
        "# Para transforma-lo novamente em uma tupla, usamos, nome da tupla = tuple(nome da lista usada para\n",
        "# a edicao da tupla)"
      ],
      "metadata": {
        "id": "9FguliR-5fM2"
      },
      "execution_count": null,
      "outputs": []
    },
    {
      "cell_type": "code",
      "source": [
        "t3"
      ],
      "metadata": {
        "colab": {
          "base_uri": "https://localhost:8080/"
        },
        "id": "rr6SI7nF5lA3",
        "outputId": "c511b211-1775-4b87-f3fb-7dd7c9cf6341"
      },
      "execution_count": null,
      "outputs": [
        {
          "output_type": "execute_result",
          "data": {
            "text/plain": [
              "(1, 2, 3, 4, 5, 6)"
            ]
          },
          "metadata": {},
          "execution_count": 29
        }
      ]
    }
  ]
}