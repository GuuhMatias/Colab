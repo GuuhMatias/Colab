{
  "nbformat": 4,
  "nbformat_minor": 0,
  "metadata": {
    "colab": {
      "provenance": [],
      "include_colab_link": true
    },
    "kernelspec": {
      "name": "python3",
      "display_name": "Python 3"
    },
    "language_info": {
      "name": "python"
    }
  },
  "cells": [
    {
      "cell_type": "markdown",
      "metadata": {
        "id": "view-in-github",
        "colab_type": "text"
      },
      "source": [
        "<a href=\"https://colab.research.google.com/github/GuuhMatias/Colab/blob/main/Vari%C3%A1veis%2C_tipos_e_palavras_reservadas.ipynb\" target=\"_parent\"><img src=\"https://colab.research.google.com/assets/colab-badge.svg\" alt=\"Open In Colab\"/></a>"
      ]
    },
    {
      "cell_type": "code",
      "execution_count": null,
      "metadata": {
        "colab": {
          "base_uri": "https://localhost:8080/"
        },
        "id": "I5JxrhhvxCHR",
        "outputId": "5b8ab4e5-7438-4c80-fbfa-f8f13c01dea1"
      },
      "outputs": [
        {
          "output_type": "execute_result",
          "data": {
            "text/plain": [
              "10"
            ]
          },
          "metadata": {},
          "execution_count": 1
        }
      ],
      "source": [
        "# Variáveis nao tem regras de nomeação dos mesmos, podemos colocar o que quisermos para\n",
        "# criar a variavel, menos começar o nome de uma variável usando um numero e nem usar caracteres especiais\n",
        "# também nao podemos usar as palavras reservadas para nomear as variaveis, essas palavras são:\n",
        "# False, class, finally, is, return, none, continue, for, lambda, try, except, true, def, from, nonlocal\n",
        "# while, and, del, global, not, with, in, as, elif, if, or, yield, assert, else, import, pass, break, raise\n",
        "# E nao podemos colocar espaços na nomeação, para substituir o espaço utilizamos \" _ \"\n",
        "x = 10\n",
        "x"
      ]
    },
    {
      "cell_type": "code",
      "source": [
        "# Python possui sistema de tipagem dinâmica, o que não faz ser necessário a especificação do tipo da\n",
        "# da variavel\n",
        "\n",
        "# E as variaveis podem ter nomes iguais, mas com detalhes diferentes, e Python é um Case Sensitive\n",
        "# e ele pode diferenciar qual variavel é por esse detalhe, por exemplo:\n",
        "\n",
        "aie = 3\n",
        "aiE = 4\n",
        "aIe = 5\n",
        "\n",
        "print(aie, aiE)\n"
      ],
      "metadata": {
        "colab": {
          "base_uri": "https://localhost:8080/"
        },
        "id": "4Y4UYxhRxtKF",
        "outputId": "55fb063b-167f-4305-f51d-e001a428da9c"
      },
      "execution_count": null,
      "outputs": [
        {
          "output_type": "stream",
          "name": "stdout",
          "text": [
            "3 4\n"
          ]
        }
      ]
    },
    {
      "cell_type": "code",
      "source": [],
      "metadata": {
        "id": "fmSo2Cl1zPqn"
      },
      "execution_count": null,
      "outputs": []
    }
  ]
}