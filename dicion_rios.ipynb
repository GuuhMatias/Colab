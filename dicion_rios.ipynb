{
  "nbformat": 4,
  "nbformat_minor": 0,
  "metadata": {
    "colab": {
      "provenance": [],
      "include_colab_link": true
    },
    "kernelspec": {
      "name": "python3",
      "display_name": "Python 3"
    },
    "language_info": {
      "name": "python"
    }
  },
  "cells": [
    {
      "cell_type": "markdown",
      "metadata": {
        "id": "view-in-github",
        "colab_type": "text"
      },
      "source": [
        "<a href=\"https://colab.research.google.com/github/GuuhMatias/Colab/blob/main/dicion_rios.ipynb\" target=\"_parent\"><img src=\"https://colab.research.google.com/assets/colab-badge.svg\" alt=\"Open In Colab\"/></a>"
      ]
    },
    {
      "cell_type": "code",
      "execution_count": null,
      "metadata": {
        "colab": {
          "base_uri": "https://localhost:8080/"
        },
        "id": "TiiFc5_3sHkd",
        "outputId": "2803e07c-4728-4e9b-d51b-5cd0fd5a1a3e"
      },
      "outputs": [
        {
          "output_type": "execute_result",
          "data": {
            "text/plain": [
              "dict"
            ]
          },
          "metadata": {},
          "execution_count": 3
        }
      ],
      "source": [
        "# Dicionarios sao estruturas que salvam dados de tipo chave e valor, e eles possuem tres caracteristicas\n",
        "# eles nao sao ordenados, sao iteraveis e sao mutaveis\n",
        "# Dicionários sao caracterizados pela abertura e fechamento das chaves \"{}\"\n",
        "\n",
        "l = [\"gustavo\",1000,\"Guilherme\", 750, 'Eliane', 2500]\n",
        "d = {\"Pedro\":1000, \"Carlos\":750,\"Ricardo\":2500}\n",
        "\n",
        "type(d)"
      ]
    },
    {
      "cell_type": "code",
      "source": [
        "type(l)"
      ],
      "metadata": {
        "colab": {
          "base_uri": "https://localhost:8080/"
        },
        "id": "_Ez945fnq8oH",
        "outputId": "e70162e0-7df3-4578-e26b-60f639e48196"
      },
      "execution_count": null,
      "outputs": [
        {
          "output_type": "execute_result",
          "data": {
            "text/plain": [
              "list"
            ]
          },
          "metadata": {},
          "execution_count": 4
        }
      ]
    },
    {
      "cell_type": "code",
      "source": [
        "l"
      ],
      "metadata": {
        "colab": {
          "base_uri": "https://localhost:8080/"
        },
        "id": "fAnXX1LprRPJ",
        "outputId": "08364323-29e4-4c21-942e-63797862c856"
      },
      "execution_count": null,
      "outputs": [
        {
          "output_type": "execute_result",
          "data": {
            "text/plain": [
              "['gustavo', 1000, 'Guilherme', 750, 'Eliane', 2500]"
            ]
          },
          "metadata": {},
          "execution_count": 5
        }
      ]
    },
    {
      "cell_type": "code",
      "source": [
        "d"
      ],
      "metadata": {
        "colab": {
          "base_uri": "https://localhost:8080/"
        },
        "id": "xNX--fcxraSJ",
        "outputId": "87637413-8409-4501-d1ea-3bb27bb85199"
      },
      "execution_count": null,
      "outputs": [
        {
          "output_type": "execute_result",
          "data": {
            "text/plain": [
              "{'Pedro': 1000, 'Carlos': 750, 'Ricardo': 2500}"
            ]
          },
          "metadata": {},
          "execution_count": 6
        }
      ]
    },
    {
      "cell_type": "code",
      "source": [
        "d['Pedro']"
      ],
      "metadata": {
        "colab": {
          "base_uri": "https://localhost:8080/"
        },
        "id": "oucaoF0nratB",
        "outputId": "1bcac68e-2a55-4605-fcf2-27f5a786b9c8"
      },
      "execution_count": null,
      "outputs": [
        {
          "output_type": "execute_result",
          "data": {
            "text/plain": [
              "1000"
            ]
          },
          "metadata": {},
          "execution_count": 7
        }
      ]
    },
    {
      "cell_type": "code",
      "source": [
        "# Após buscarmos por Pedro, obtivemos de resultado o valor 1000, porque o valor 1000 está associado\n",
        "# a Pedro, como se ele fosse a palavra do dicionario, e o 1000 fosse o significado\n",
        "\n",
        "# Se eu tentar fazer o mesmo com o a lista l\n",
        "l['Eliane']"
      ],
      "metadata": {
        "colab": {
          "base_uri": "https://localhost:8080/",
          "height": 210
        },
        "id": "6HheUlCSrdyR",
        "outputId": "40e062b3-c9f7-462e-f5f1-fdd68084e48f"
      },
      "execution_count": null,
      "outputs": [
        {
          "output_type": "error",
          "ename": "TypeError",
          "evalue": "ignored",
          "traceback": [
            "\u001b[0;31m---------------------------------------------------------------------------\u001b[0m",
            "\u001b[0;31mTypeError\u001b[0m                                 Traceback (most recent call last)",
            "\u001b[0;32m<ipython-input-9-71052199b4ba>\u001b[0m in \u001b[0;36m<cell line: 5>\u001b[0;34m()\u001b[0m\n\u001b[1;32m      3\u001b[0m \u001b[0;34m\u001b[0m\u001b[0m\n\u001b[1;32m      4\u001b[0m \u001b[0;31m# Se eu tentar fazer o mesmo com o a lista l\u001b[0m\u001b[0;34m\u001b[0m\u001b[0;34m\u001b[0m\u001b[0m\n\u001b[0;32m----> 5\u001b[0;31m \u001b[0ml\u001b[0m\u001b[0;34m[\u001b[0m\u001b[0;34m'Eliane'\u001b[0m\u001b[0;34m]\u001b[0m\u001b[0;34m\u001b[0m\u001b[0;34m\u001b[0m\u001b[0m\n\u001b[0m",
            "\u001b[0;31mTypeError\u001b[0m: list indices must be integers or slices, not str"
          ]
        }
      ]
    },
    {
      "cell_type": "code",
      "source": [
        "# Vai dar erro porque a lista nao associa o valor com o nome na string Eliane, igual faz o dicionário\n",
        "# E se eu usar o comando \"len\" reparemos o porque do erro\n",
        "\n",
        "len(l)"
      ],
      "metadata": {
        "colab": {
          "base_uri": "https://localhost:8080/"
        },
        "id": "6UW86a8Pr-5Z",
        "outputId": "ac708aed-06de-410b-a4f8-b4b4ec276550"
      },
      "execution_count": null,
      "outputs": [
        {
          "output_type": "execute_result",
          "data": {
            "text/plain": [
              "6"
            ]
          },
          "metadata": {},
          "execution_count": 10
        }
      ]
    },
    {
      "cell_type": "code",
      "source": [
        "# a lista l possui 6 elementos, porque os valores nao associam com os nomes, cada um é independente\n",
        "\n",
        "len(d)"
      ],
      "metadata": {
        "colab": {
          "base_uri": "https://localhost:8080/"
        },
        "id": "WtDVta-esfgS",
        "outputId": "b69258bf-6dd9-43e3-a045-2de2da26d4d5"
      },
      "execution_count": null,
      "outputs": [
        {
          "output_type": "execute_result",
          "data": {
            "text/plain": [
              "3"
            ]
          },
          "metadata": {},
          "execution_count": 11
        }
      ]
    },
    {
      "cell_type": "code",
      "source": [
        "# Aqui temos apenas 3 elementos, mas temos 6 palavras, 3 valores e 3 nomes, mas cada nome se associa\n",
        "# com um valor, fazendo a relacao e juncao de 2 elementos\n",
        "\n",
        "d.keys()"
      ],
      "metadata": {
        "colab": {
          "base_uri": "https://localhost:8080/"
        },
        "id": "O8IQFjkdsqX6",
        "outputId": "df786d95-78bf-4e87-fc25-c7dc4c6a4dc3"
      },
      "execution_count": null,
      "outputs": [
        {
          "output_type": "execute_result",
          "data": {
            "text/plain": [
              "dict_keys(['Pedro', 'Carlos', 'Ricardo'])"
            ]
          },
          "metadata": {},
          "execution_count": 14
        }
      ]
    },
    {
      "cell_type": "code",
      "source": [
        "# Obtivemos as chaves do dicionário, podemos dizer que keys sao as palavras que buscamos para saber\n",
        "# seu significado, usando o comando .keys()\n",
        "\n",
        "d.values()\n",
        "\n",
        "# e aqui iremos obter os significados que buscavamos, usando o comando .value()"
      ],
      "metadata": {
        "colab": {
          "base_uri": "https://localhost:8080/"
        },
        "id": "6gE8qCWNtVra",
        "outputId": "df78810a-53e9-42f4-c730-13676b238527"
      },
      "execution_count": null,
      "outputs": [
        {
          "output_type": "execute_result",
          "data": {
            "text/plain": [
              "dict_values([1000, 750, 2500])"
            ]
          },
          "metadata": {},
          "execution_count": 15
        }
      ]
    },
    {
      "cell_type": "code",
      "source": [
        "d2 = {'Ana': 1500}"
      ],
      "metadata": {
        "id": "2fi2LfyzttHS"
      },
      "execution_count": null,
      "outputs": []
    },
    {
      "cell_type": "code",
      "source": [
        "d"
      ],
      "metadata": {
        "colab": {
          "base_uri": "https://localhost:8080/"
        },
        "id": "YCAyhQm5uOUK",
        "outputId": "333f7e4b-9390-4519-bcb3-001731915176"
      },
      "execution_count": null,
      "outputs": [
        {
          "output_type": "execute_result",
          "data": {
            "text/plain": [
              "{'Pedro': 1000, 'Carlos': 750, 'Ricardo': 2500}"
            ]
          },
          "metadata": {},
          "execution_count": 17
        }
      ]
    },
    {
      "cell_type": "code",
      "source": [
        "# Usando o comando .update, adicionaremos um elemento ou os elementos de um dicionario dentro de outro\n",
        "# dicionário\n",
        "\n",
        "d.update(d2)"
      ],
      "metadata": {
        "id": "jAmnWMzQuOyi"
      },
      "execution_count": null,
      "outputs": []
    },
    {
      "cell_type": "code",
      "source": [
        "d"
      ],
      "metadata": {
        "colab": {
          "base_uri": "https://localhost:8080/"
        },
        "id": "5gUtbFkVuhIq",
        "outputId": "6f5a0ebf-d768-4e97-a59d-5c94ceec8c3f"
      },
      "execution_count": null,
      "outputs": [
        {
          "output_type": "execute_result",
          "data": {
            "text/plain": [
              "{'Pedro': 1000, 'Carlos': 750, 'Ricardo': 2500, 'Ana': 1500}"
            ]
          },
          "metadata": {},
          "execution_count": 19
        }
      ]
    },
    {
      "cell_type": "code",
      "source": [
        "# Temos a opcao de retirar o nome e o valor relacionado a ele de dentro do objeto\n",
        "\n",
        "del d[\"Pedro\"]"
      ],
      "metadata": {
        "id": "4e5_zSeMuh1y"
      },
      "execution_count": null,
      "outputs": []
    },
    {
      "cell_type": "code",
      "source": [
        "d"
      ],
      "metadata": {
        "colab": {
          "base_uri": "https://localhost:8080/"
        },
        "id": "Gdbw0dEeuy9r",
        "outputId": "8ba7f339-130e-43d8-8f11-03b940c39084"
      },
      "execution_count": null,
      "outputs": [
        {
          "output_type": "execute_result",
          "data": {
            "text/plain": [
              "{'Carlos': 750, 'Ricardo': 2500, 'Ana': 1500}"
            ]
          },
          "metadata": {},
          "execution_count": 22
        }
      ]
    },
    {
      "cell_type": "code",
      "source": [
        "# Obtivemos o dicionario sem o Pedro e o valor relacionado a ele, pois fizemos a remocao do mesmo de\n",
        "# dentro do dicionário\n"
      ],
      "metadata": {
        "id": "V1sJ-2vSu33r"
      },
      "execution_count": null,
      "outputs": []
    },
    {
      "cell_type": "code",
      "source": [
        "# Para apagar todos os elementos e valores do dicionario por completo, utilizamos o comando .clear()\n",
        "\n",
        "d.clear()\n",
        "\n",
        "d"
      ],
      "metadata": {
        "colab": {
          "base_uri": "https://localhost:8080/"
        },
        "id": "psZZxG7BvHyy",
        "outputId": "fab03ea0-41d4-406d-8d06-7e2a7e86dc7b"
      },
      "execution_count": null,
      "outputs": [
        {
          "output_type": "execute_result",
          "data": {
            "text/plain": [
              "{}"
            ]
          },
          "metadata": {},
          "execution_count": 27
        }
      ]
    },
    {
      "cell_type": "code",
      "source": [
        "familia = {'pai':40, 'Mãe':36, 'Filhos':1}"
      ],
      "metadata": {
        "id": "ctc2Cg-2vT2K"
      },
      "execution_count": null,
      "outputs": []
    },
    {
      "cell_type": "code",
      "source": [
        "familia"
      ],
      "metadata": {
        "colab": {
          "base_uri": "https://localhost:8080/"
        },
        "id": "2e2Lh2ihvyUU",
        "outputId": "f8e3bb9f-bcf9-4bfd-a1c8-ed7ecff3f857"
      },
      "execution_count": null,
      "outputs": [
        {
          "output_type": "execute_result",
          "data": {
            "text/plain": [
              "{'pai': 40, 'Mãe': 36, 'Filhos': 1}"
            ]
          },
          "metadata": {},
          "execution_count": 32
        }
      ]
    },
    {
      "cell_type": "code",
      "source": [
        "# E vou declarar que essa familia nao contem animais usando o false\n",
        "\n",
        "familia['Animais'] = False"
      ],
      "metadata": {
        "id": "Z3aRFGTZvzKD"
      },
      "execution_count": null,
      "outputs": []
    },
    {
      "cell_type": "code",
      "source": [
        "familia"
      ],
      "metadata": {
        "colab": {
          "base_uri": "https://localhost:8080/"
        },
        "id": "8lB4AA9ewV37",
        "outputId": "5abca0db-9f1b-42c8-978a-579e3bdee42a"
      },
      "execution_count": null,
      "outputs": [
        {
          "output_type": "execute_result",
          "data": {
            "text/plain": [
              "{'pai': 40, 'Mãe': 36, 'Filhos': 1, 'Animais': False}"
            ]
          },
          "metadata": {},
          "execution_count": 34
        }
      ]
    },
    {
      "cell_type": "code",
      "source": [
        "# Vamos fazer de conta que a familia teve outro filho, entao teremos que adicionar mais 1 no valor\n",
        "# do dicionario na key familia, para isso basta fazer a alteracao de 1 pra 2, usando o nome do dicionario\n",
        "# e entre [] colocar a key que queremos alterar e colocar na frente depois do sinal de = , o valor que\n",
        "# queremos adicionar\n",
        "\n",
        "familia['Filhos'] = 2"
      ],
      "metadata": {
        "id": "hirjke4_wW9r"
      },
      "execution_count": null,
      "outputs": []
    },
    {
      "cell_type": "code",
      "source": [
        "familia"
      ],
      "metadata": {
        "colab": {
          "base_uri": "https://localhost:8080/"
        },
        "id": "z0AncbDkwyiV",
        "outputId": "f8bc03ed-33fe-4ffd-a0b7-e4290098f8b7"
      },
      "execution_count": null,
      "outputs": [
        {
          "output_type": "execute_result",
          "data": {
            "text/plain": [
              "{'pai': 40, 'Mãe': 36, 'Filhos': 2, 'Animais': False}"
            ]
          },
          "metadata": {},
          "execution_count": 38
        }
      ]
    },
    {
      "cell_type": "code",
      "source": [
        "# Dicionarios aninhados\n",
        "\n",
        "d1 = {'livia': 32, 'pedro': 12, 'camila': {'idade':16, 'altura':1.70}}"
      ],
      "metadata": {
        "id": "_zylK_fYw0At"
      },
      "execution_count": null,
      "outputs": []
    },
    {
      "cell_type": "code",
      "source": [
        "d1\n"
      ],
      "metadata": {
        "colab": {
          "base_uri": "https://localhost:8080/"
        },
        "id": "l5y1wPB-xlZs",
        "outputId": "221259ae-6689-4e6f-db1a-46b69fd020c6"
      },
      "execution_count": null,
      "outputs": [
        {
          "output_type": "execute_result",
          "data": {
            "text/plain": [
              "{'livia': 32, 'pedro': 12, 'camila': {'idade': 16, 'altura': 1.7}}"
            ]
          },
          "metadata": {},
          "execution_count": 42
        }
      ]
    },
    {
      "cell_type": "code",
      "source": [
        "d1['camila']"
      ],
      "metadata": {
        "colab": {
          "base_uri": "https://localhost:8080/"
        },
        "id": "yRpvTw9xyEZA",
        "outputId": "7cacb0de-7c30-424e-c3a1-ba5824fcea8e"
      },
      "execution_count": null,
      "outputs": [
        {
          "output_type": "execute_result",
          "data": {
            "text/plain": [
              "{'idade': 16, 'altura': 1.7}"
            ]
          },
          "metadata": {},
          "execution_count": 43
        }
      ]
    },
    {
      "cell_type": "code",
      "source": [
        "d1['livia']"
      ],
      "metadata": {
        "colab": {
          "base_uri": "https://localhost:8080/"
        },
        "id": "Ga-6OT4gyEbZ",
        "outputId": "23cf86dc-7475-41bc-fc1f-a249f8e6b449"
      },
      "execution_count": null,
      "outputs": [
        {
          "output_type": "execute_result",
          "data": {
            "text/plain": [
              "32"
            ]
          },
          "metadata": {},
          "execution_count": 44
        }
      ]
    },
    {
      "cell_type": "code",
      "source": [
        "# Assim fazemos um dicionario aninhado, montando um dicionario dentro de outro"
      ],
      "metadata": {
        "id": "d5CzWDnpxviM"
      },
      "execution_count": null,
      "outputs": []
    },
    {
      "cell_type": "code",
      "source": [
        "# Usando o comando .pop, que consiste em deletar apenas o a chave do do dicionario, e me retornando o valor ,\n",
        "# que estava na chave, por exemplo:\n",
        "\n",
        "d1.pop('pedro')"
      ],
      "metadata": {
        "colab": {
          "base_uri": "https://localhost:8080/"
        },
        "id": "yKQV6u-OyEdg",
        "outputId": "019279d0-02e8-4ce5-8e63-d1b26d590dfd"
      },
      "execution_count": null,
      "outputs": [
        {
          "output_type": "execute_result",
          "data": {
            "text/plain": [
              "12"
            ]
          },
          "metadata": {},
          "execution_count": 48
        }
      ]
    },
    {
      "cell_type": "code",
      "source": [
        "d1"
      ],
      "metadata": {
        "colab": {
          "base_uri": "https://localhost:8080/"
        },
        "id": "0o3jec3eyggk",
        "outputId": "b876dccf-a606-4837-e319-411d76f69900"
      },
      "execution_count": null,
      "outputs": [
        {
          "output_type": "execute_result",
          "data": {
            "text/plain": [
              "{'livia': 32, 'camila': {'idade': 16, 'altura': 1.7}}"
            ]
          },
          "metadata": {},
          "execution_count": 49
        }
      ]
    },
    {
      "cell_type": "code",
      "source": [],
      "metadata": {
        "id": "lY5TUnXOyuzt"
      },
      "execution_count": null,
      "outputs": []
    }
  ]
}